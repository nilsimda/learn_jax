{
 "cells": [
  {
   "cell_type": "code",
   "execution_count": 2,
   "metadata": {},
   "outputs": [
    {
     "data": {
      "text/plain": [
       "(array([ 0.0273956 , -0.00611216,  0.03585979,  0.0197368 ], dtype=float32),\n",
       " {})"
      ]
     },
     "execution_count": 2,
     "metadata": {},
     "output_type": "execute_result"
    }
   ],
   "source": [
    "import jax\n",
    "import flax\n",
    "import optax\n",
    "import numpy as np\n",
    "import gymnasium as gym\n",
    "import matplotlib.pyplot as plt\n",
    "from jax import random, numpy as jnp\n",
    "\n",
    "env = gym.make(\"CartPole-v1\", render_mode=\"rgb_array\")\n",
    "obs, info = env.reset(seed=42)\n",
    "obs, info"
   ]
  },
  {
   "cell_type": "code",
   "execution_count": 3,
   "metadata": {},
   "outputs": [
    {
     "data": {
      "image/png": "[encoded data removed]",
      "text/plain": [
       "<Figure size 400x400 with 1 Axes>"
      ]
     },
     "metadata": {},
     "output_type": "display_data"
    }
   ],
   "source": [
    "def show_env(env):\n",
    "    img = env.render()\n",
    "    plt.figure(figsize=(4,4))\n",
    "    plt.imshow(img)\n",
    "    plt.axis('off')\n",
    "\n",
    "show_env(env)"
   ]
  },
  {
   "cell_type": "code",
   "execution_count": 4,
   "metadata": {},
   "outputs": [
    {
     "data": {
      "text/plain": [
       "(array([ 0.02727336,  0.18847767,  0.03625453, -0.26141977], dtype=float32),\n",
       " 1.0,\n",
       " False,\n",
       " False)"
      ]
     },
     "execution_count": 4,
     "metadata": {},
     "output_type": "execute_result"
    }
   ],
   "source": [
    "action=1\n",
    "obs,reward,done,truncated,info = env.step(action)\n",
    "obs, reward, done, truncated"
   ]
  },
  {
   "cell_type": "code",
   "execution_count": 5,
   "metadata": {},
   "outputs": [],
   "source": [
    "def basic_policy(obs):\n",
    "    angle = obs[2]\n",
    "    return 0 if angle < 0 else 1\n",
    "\n",
    "totals = []\n",
    "for episode in range(500):\n",
    "    episode_rewards = 0\n",
    "    obs, info = env.reset(seed=episode)\n",
    "    for step in range(200):\n",
    "        action = basic_policy(obs)\n",
    "        obs, reward, done, truncated, info = env.step(action)\n",
    "        episode_rewards += reward\n",
    "        if done or truncated:\n",
    "            break\n",
    "    totals.append(episode_rewards)"
   ]
  },
  {
   "cell_type": "code",
   "execution_count": 6,
   "metadata": {},
   "outputs": [
    {
     "data": {
      "text/plain": [
       "(41.698, 8.389445512070509, 24.0, 63.0)"
      ]
     },
     "execution_count": 6,
     "metadata": {},
     "output_type": "execute_result"
    }
   ],
   "source": [
    "import numpy as np\n",
    "\n",
    "np.mean(totals), np.std(totals), min(totals), max(totals)"
   ]
  },
  {
   "cell_type": "code",
   "execution_count": 28,
   "metadata": {},
   "outputs": [
    {
     "name": "stdout",
     "output_type": "stream",
     "text": [
      "Initialized parameter shapes:\n",
      " {'params': {'Dense_0': {'bias': (5,), 'kernel': (4, 5)}, 'Dense_1': {'bias': (1,), 'kernel': (5, 1)}}}\n",
      "Output:\n",
      " [[0.04724307]]\n"
     ]
    }
   ],
   "source": [
    "from flax import linen as nn\n",
    "from jax import random, numpy as jnp\n",
    "\n",
    "class MLP(nn.Module):\n",
    "    @nn.compact\n",
    "    def __call__(self, x):\n",
    "        x = nn.Dense(5)(x)\n",
    "        x = nn.relu(x)\n",
    "        x = nn.Dense(1)(x)\n",
    "        return x\n",
    "\n",
    "key, subkey = random.split(random.PRNGKey(0))\n",
    "model = MLP()\n",
    "params = model.init(subkey, obs[np.newaxis, :])\n",
    "y = model.apply(params, obs[np.newaxis, :])\n",
    "\n",
    "print('Initialized parameter shapes:\\n', jax.tree_map(jnp.shape, params))\n",
    "print('Output:\\n', y)"
   ]
  },
  {
   "cell_type": "code",
   "execution_count": 33,
   "metadata": {},
   "outputs": [],
   "source": [
    "def loss_fn(params, labels):\n",
    "    logits = model.apply(params, obs[np.newaxis])\n",
    "    return optax.sigmoid_binary_cross_entropy(logits, labels).mean()\n",
    "\n",
    "def play_one_step(params, model, env, obs, key):\n",
    "    left_proba = nn.sigmoid(model.apply(params, obs[np.newaxis, :]))\n",
    "    action = random.uniform(key, (1,1)) > left_proba\n",
    "    y_target = jnp.array([[1.]]) - action\n",
    "    grads = jax.grad(loss_fn)(params, y_target)\n",
    "\n",
    "    obs, reward, done, truncated, _ = env.step(action.item())\n",
    "    return obs, reward, done, truncated, grads"
   ]
  },
  {
   "cell_type": "code",
   "execution_count": 34,
   "metadata": {},
   "outputs": [
    {
     "name": "stderr",
     "output_type": "stream",
     "text": [
      "/home/nils/miniconda3/envs/jax/lib/python3.11/site-packages/gymnasium/envs/classic_control/cartpole.py:180: UserWarning: \u001b[33mWARN: You are calling 'step()' even though this environment has already returned terminated = True. You should always call 'reset()' once you receive 'terminated = True' -- any further steps are undefined behavior.\u001b[0m\n",
      "  logger.warn(\n"
     ]
    },
    {
     "data": {
      "text/plain": [
       "(array([ 0.19670843,  0.1930188 , -0.23195486, -0.3000778 ], dtype=float32),\n",
       " 0.0,\n",
       " True,\n",
       " False,\n",
       " {'params': {'Dense_0': {'bias': Array([ 0.        ,  0.        ,  0.28930318, -0.16624181,  0.        ],      dtype=float32),\n",
       "    'kernel': Array([[ 0.        ,  0.        ,  0.05468395, -0.03142295,  0.        ],\n",
       "           [ 0.        ,  0.        ,  0.11122123, -0.06391087,  0.        ],\n",
       "           [-0.        , -0.        , -0.0641222 ,  0.03684644, -0.        ],\n",
       "           [-0.        , -0.        , -0.14915381,  0.08570801, -0.        ]],      dtype=float32)},\n",
       "   'Dense_1': {'bias': Array([-0.48819146], dtype=float32),\n",
       "    'kernel': Array([[-0.        ],\n",
       "           [-0.        ],\n",
       "           [-0.12268365],\n",
       "           [-0.28123042],\n",
       "           [-0.        ]], dtype=float32)}}})"
      ]
     },
     "execution_count": 34,
     "metadata": {},
     "output_type": "execute_result"
    }
   ],
   "source": [
    "play_one_step(params, model, env, obs, subkey)"
   ]
  },
  {
   "cell_type": "code",
   "execution_count": 41,
   "metadata": {},
   "outputs": [],
   "source": [
    "def play_multiple_episodes(env, n_episodes, n_max_steps, model, params, key):\n",
    "    all_rewards = []\n",
    "    all_grads = []\n",
    "    for _ in range(n_episodes):\n",
    "        current_rewards = []\n",
    "        current_grads = []\n",
    "        obs, _ = env.reset()\n",
    "        for _ in range(n_max_steps):\n",
    "            key, subkey = random.split(key)\n",
    "            obs, reward, done, truncated, grads = play_one_step(\n",
    "                params, model, env, obs, subkey\n",
    "            )\n",
    "            current_rewards.append(reward)\n",
    "            current_grads.append(grads)\n",
    "            if done or truncated: break\n",
    "        all_rewards.append(current_rewards)\n",
    "        all_grads.append(current_grads)\n",
    "    return all_rewards, all_grads"
   ]
  },
  {
   "cell_type": "code",
   "execution_count": 43,
   "metadata": {},
   "outputs": [
    {
     "data": {
      "text/plain": [
       "[{'params': {'Dense_0': {'bias': Array([ 0.        ,  0.        , -0.30329877,  0.17428406,  0.        ],      dtype=float32),\n",
       "    'kernel': Array([[ 0.        ,  0.        , -0.05732939,  0.03294309,  0.        ],\n",
       "           [ 0.        ,  0.        , -0.11660177,  0.06700268,  0.        ],\n",
       "           [-0.        , -0.        ,  0.06722423, -0.03862895, -0.        ],\n",
       "           [-0.        , -0.        ,  0.15636942, -0.08985429, -0.        ]],      dtype=float32)},\n",
       "   'Dense_1': {'bias': Array([0.51180863], dtype=float32),\n",
       "    'kernel': Array([[0.        ],\n",
       "           [0.        ],\n",
       "           [0.1286187 ],\n",
       "           [0.29483548],\n",
       "           [0.        ]], dtype=float32)}}},\n",
       " {'params': {'Dense_0': {'bias': Array([ 0.        ,  0.        , -0.30329877,  0.17428406,  0.        ],      dtype=float32),\n",
       "    'kernel': Array([[ 0.        ,  0.        , -0.05732939,  0.03294309,  0.        ],\n",
       "           [ 0.        ,  0.        , -0.11660177,  0.06700268,  0.        ],\n",
       "           [-0.        , -0.        ,  0.06722423, -0.03862895, -0.        ],\n",
       "           [-0.        , -0.        ,  0.15636942, -0.08985429, -0.        ]],      dtype=float32)},\n",
       "   'Dense_1': {'bias': Array([0.51180863], dtype=float32),\n",
       "    'kernel': Array([[0.        ],\n",
       "           [0.        ],\n",
       "           [0.1286187 ],\n",
       "           [0.29483548],\n",
       "           [0.        ]], dtype=float32)}}},\n",
       " {'params': {'Dense_0': {'bias': Array([ 0.        ,  0.        , -0.30329877,  0.17428406,  0.        ],      dtype=float32),\n",
       "    'kernel': Array([[ 0.        ,  0.        , -0.05732939,  0.03294309,  0.        ],\n",
       "           [ 0.        ,  0.        , -0.11660177,  0.06700268,  0.        ],\n",
       "           [-0.        , -0.        ,  0.06722423, -0.03862895, -0.        ],\n",
       "           [-0.        , -0.        ,  0.15636942, -0.08985429, -0.        ]],      dtype=float32)},\n",
       "   'Dense_1': {'bias': Array([0.51180863], dtype=float32),\n",
       "    'kernel': Array([[0.        ],\n",
       "           [0.        ],\n",
       "           [0.1286187 ],\n",
       "           [0.29483548],\n",
       "           [0.        ]], dtype=float32)}}},\n",
       " {'params': {'Dense_0': {'bias': Array([ 0.        ,  0.        , -0.30329877,  0.17428406,  0.        ],      dtype=float32),\n",
       "    'kernel': Array([[ 0.        ,  0.        , -0.05732939,  0.03294309,  0.        ],\n",
       "           [ 0.        ,  0.        , -0.11660177,  0.06700268,  0.        ],\n",
       "           [-0.        , -0.        ,  0.06722423, -0.03862895, -0.        ],\n",
       "           [-0.        , -0.        ,  0.15636942, -0.08985429, -0.        ]],      dtype=float32)},\n",
       "   'Dense_1': {'bias': Array([0.51180863], dtype=float32),\n",
       "    'kernel': Array([[0.        ],\n",
       "           [0.        ],\n",
       "           [0.1286187 ],\n",
       "           [0.29483548],\n",
       "           [0.        ]], dtype=float32)}}},\n",
       " {'params': {'Dense_0': {'bias': Array([ 0.        ,  0.        ,  0.28930318, -0.16624181,  0.        ],      dtype=float32),\n",
       "    'kernel': Array([[ 0.        ,  0.        ,  0.05468395, -0.03142295,  0.        ],\n",
       "           [ 0.        ,  0.        ,  0.11122123, -0.06391087,  0.        ],\n",
       "           [-0.        , -0.        , -0.0641222 ,  0.03684644, -0.        ],\n",
       "           [-0.        , -0.        , -0.14915381,  0.08570801, -0.        ]],      dtype=float32)},\n",
       "   'Dense_1': {'bias': Array([-0.48819146], dtype=float32),\n",
       "    'kernel': Array([[-0.        ],\n",
       "           [-0.        ],\n",
       "           [-0.12268365],\n",
       "           [-0.28123042],\n",
       "           [-0.        ]], dtype=float32)}}},\n",
       " {'params': {'Dense_0': {'bias': Array([ 0.        ,  0.        ,  0.28930318, -0.16624181,  0.        ],      dtype=float32),\n",
       "    'kernel': Array([[ 0.        ,  0.        ,  0.05468395, -0.03142295,  0.        ],\n",
       "           [ 0.        ,  0.        ,  0.11122123, -0.06391087,  0.        ],\n",
       "           [-0.        , -0.        , -0.0641222 ,  0.03684644, -0.        ],\n",
       "           [-0.        , -0.        , -0.14915381,  0.08570801, -0.        ]],      dtype=float32)},\n",
       "   'Dense_1': {'bias': Array([-0.48819146], dtype=float32),\n",
       "    'kernel': Array([[-0.        ],\n",
       "           [-0.        ],\n",
       "           [-0.12268365],\n",
       "           [-0.28123042],\n",
       "           [-0.        ]], dtype=float32)}}},\n",
       " {'params': {'Dense_0': {'bias': Array([ 0.        ,  0.        , -0.30329877,  0.17428406,  0.        ],      dtype=float32),\n",
       "    'kernel': Array([[ 0.        ,  0.        , -0.05732939,  0.03294309,  0.        ],\n",
       "           [ 0.        ,  0.        , -0.11660177,  0.06700268,  0.        ],\n",
       "           [-0.        , -0.        ,  0.06722423, -0.03862895, -0.        ],\n",
       "           [-0.        , -0.        ,  0.15636942, -0.08985429, -0.        ]],      dtype=float32)},\n",
       "   'Dense_1': {'bias': Array([0.51180863], dtype=float32),\n",
       "    'kernel': Array([[0.        ],\n",
       "           [0.        ],\n",
       "           [0.1286187 ],\n",
       "           [0.29483548],\n",
       "           [0.        ]], dtype=float32)}}},\n",
       " {'params': {'Dense_0': {'bias': Array([ 0.        ,  0.        , -0.30329877,  0.17428406,  0.        ],      dtype=float32),\n",
       "    'kernel': Array([[ 0.        ,  0.        , -0.05732939,  0.03294309,  0.        ],\n",
       "           [ 0.        ,  0.        , -0.11660177,  0.06700268,  0.        ],\n",
       "           [-0.        , -0.        ,  0.06722423, -0.03862895, -0.        ],\n",
       "           [-0.        , -0.        ,  0.15636942, -0.08985429, -0.        ]],      dtype=float32)},\n",
       "   'Dense_1': {'bias': Array([0.51180863], dtype=float32),\n",
       "    'kernel': Array([[0.        ],\n",
       "           [0.        ],\n",
       "           [0.1286187 ],\n",
       "           [0.29483548],\n",
       "           [0.        ]], dtype=float32)}}},\n",
       " {'params': {'Dense_0': {'bias': Array([ 0.        ,  0.        , -0.30329877,  0.17428406,  0.        ],      dtype=float32),\n",
       "    'kernel': Array([[ 0.        ,  0.        , -0.05732939,  0.03294309,  0.        ],\n",
       "           [ 0.        ,  0.        , -0.11660177,  0.06700268,  0.        ],\n",
       "           [-0.        , -0.        ,  0.06722423, -0.03862895, -0.        ],\n",
       "           [-0.        , -0.        ,  0.15636942, -0.08985429, -0.        ]],      dtype=float32)},\n",
       "   'Dense_1': {'bias': Array([0.51180863], dtype=float32),\n",
       "    'kernel': Array([[0.        ],\n",
       "           [0.        ],\n",
       "           [0.1286187 ],\n",
       "           [0.29483548],\n",
       "           [0.        ]], dtype=float32)}}},\n",
       " {'params': {'Dense_0': {'bias': Array([ 0.        ,  0.        ,  0.28930318, -0.16624181,  0.        ],      dtype=float32),\n",
       "    'kernel': Array([[ 0.        ,  0.        ,  0.05468395, -0.03142295,  0.        ],\n",
       "           [ 0.        ,  0.        ,  0.11122123, -0.06391087,  0.        ],\n",
       "           [-0.        , -0.        , -0.0641222 ,  0.03684644, -0.        ],\n",
       "           [-0.        , -0.        , -0.14915381,  0.08570801, -0.        ]],      dtype=float32)},\n",
       "   'Dense_1': {'bias': Array([-0.48819146], dtype=float32),\n",
       "    'kernel': Array([[-0.        ],\n",
       "           [-0.        ],\n",
       "           [-0.12268365],\n",
       "           [-0.28123042],\n",
       "           [-0.        ]], dtype=float32)}}},\n",
       " {'params': {'Dense_0': {'bias': Array([ 0.        ,  0.        , -0.30329877,  0.17428406,  0.        ],      dtype=float32),\n",
       "    'kernel': Array([[ 0.        ,  0.        , -0.05732939,  0.03294309,  0.        ],\n",
       "           [ 0.        ,  0.        , -0.11660177,  0.06700268,  0.        ],\n",
       "           [-0.        , -0.        ,  0.06722423, -0.03862895, -0.        ],\n",
       "           [-0.        , -0.        ,  0.15636942, -0.08985429, -0.        ]],      dtype=float32)},\n",
       "   'Dense_1': {'bias': Array([0.51180863], dtype=float32),\n",
       "    'kernel': Array([[0.        ],\n",
       "           [0.        ],\n",
       "           [0.1286187 ],\n",
       "           [0.29483548],\n",
       "           [0.        ]], dtype=float32)}}},\n",
       " {'params': {'Dense_0': {'bias': Array([ 0.        ,  0.        , -0.30329877,  0.17428406,  0.        ],      dtype=float32),\n",
       "    'kernel': Array([[ 0.        ,  0.        , -0.05732939,  0.03294309,  0.        ],\n",
       "           [ 0.        ,  0.        , -0.11660177,  0.06700268,  0.        ],\n",
       "           [-0.        , -0.        ,  0.06722423, -0.03862895, -0.        ],\n",
       "           [-0.        , -0.        ,  0.15636942, -0.08985429, -0.        ]],      dtype=float32)},\n",
       "   'Dense_1': {'bias': Array([0.51180863], dtype=float32),\n",
       "    'kernel': Array([[0.        ],\n",
       "           [0.        ],\n",
       "           [0.1286187 ],\n",
       "           [0.29483548],\n",
       "           [0.        ]], dtype=float32)}}},\n",
       " {'params': {'Dense_0': {'bias': Array([ 0.        ,  0.        , -0.30329877,  0.17428406,  0.        ],      dtype=float32),\n",
       "    'kernel': Array([[ 0.        ,  0.        , -0.05732939,  0.03294309,  0.        ],\n",
       "           [ 0.        ,  0.        , -0.11660177,  0.06700268,  0.        ],\n",
       "           [-0.        , -0.        ,  0.06722423, -0.03862895, -0.        ],\n",
       "           [-0.        , -0.        ,  0.15636942, -0.08985429, -0.        ]],      dtype=float32)},\n",
       "   'Dense_1': {'bias': Array([0.51180863], dtype=float32),\n",
       "    'kernel': Array([[0.        ],\n",
       "           [0.        ],\n",
       "           [0.1286187 ],\n",
       "           [0.29483548],\n",
       "           [0.        ]], dtype=float32)}}}]"
      ]
     },
     "execution_count": 43,
     "metadata": {},
     "output_type": "execute_result"
    }
   ],
   "source": [
    "all_rewards, all_grads = play_multiple_episodes(env, 2, 200, model, params, key)\n",
    "\n",
    "all_grads[1]"
   ]
  },
  {
   "cell_type": "code",
   "execution_count": 50,
   "metadata": {},
   "outputs": [],
   "source": [
    "def discount_rewards(rewards, discount_factor):\n",
    "    discounted = np.array(rewards)\n",
    "    for step in range(len(rewards)-2, -1, -1):\n",
    "        discounted[step] += discounted[step + 1]* discount_factor\n",
    "    return discounted\n",
    "\n",
    "def discount_and_normalize_rewards(all_rewards, discount_factor):\n",
    "    all_discounted_rewards = [discount_rewards(rewards, discount_factor)\n",
    "                              for rewards in all_rewards]\n",
    "    flat_rewards = np.concatenate(all_discounted_rewards)\n",
    "    mean, std = flat_rewards.mean(), flat_rewards.std()\n",
    "    return [(discounted_rewards-mean)/std \n",
    "            for discounted_rewards in all_discounted_rewards]"
   ]
  },
  {
   "cell_type": "code",
   "execution_count": 53,
   "metadata": {},
   "outputs": [],
   "source": [
    "opt = optax.nadam(learning_rate=0.01)\n",
    "n_iterations = 150\n",
    "n_episodes_per_update = 10\n",
    "n_max_steps = 200\n",
    "discount_factor = 0.95"
   ]
  },
  {
   "cell_type": "code",
   "execution_count": null,
   "metadata": {},
   "outputs": [],
   "source": [
    "for it in range(n_iterations):\n",
    "    all_rewards, all_grads = play_multiple_episodes(\n",
    "        env, n_episodes_per_update, n_max_steps, model, params, key\n",
    "    )\n",
    "    all_final_rewards = discount_and_normalize_rewards(all_rewards, discount_factor)\n",
    "    all_mean_grads = []\n",
    "    for episode in range(len(all_grads)):\n",
    "        for step in range(len(all_grads[episode])):\n",
    "            jax.tree_map(lambda grads: all_rewards[episode][step]*grads, all_grads[episode][step])\n",
    "        all_mean_grads.append(jax.tree_map(lambda grads: jnp.mean(grads, axis=0), all_grads[episode]))"
   ]
  },
  {
   "cell_type": "code",
   "execution_count": 59,
   "metadata": {},
   "outputs": [
    {
     "ename": "ValueError",
     "evalue": "Expected dict, got 1.0.",
     "output_type": "error",
     "traceback": [
      "\u001b[0;31m---------------------------------------------------------------------------\u001b[0m",
      "\u001b[0;31mValueError\u001b[0m                                Traceback (most recent call last)",
      "Cell \u001b[0;32mIn[59], line 1\u001b[0m\n\u001b[0;32m----> 1\u001b[0m \u001b[43mjax\u001b[49m\u001b[38;5;241;43m.\u001b[39;49m\u001b[43mtree_map\u001b[49m\u001b[43m(\u001b[49m\u001b[38;5;28;43;01mlambda\u001b[39;49;00m\u001b[43m \u001b[49m\u001b[43mgrads\u001b[49m\u001b[43m,\u001b[49m\u001b[43m \u001b[49m\u001b[43mr\u001b[49m\u001b[43m:\u001b[49m\u001b[43m \u001b[49m\u001b[43mr\u001b[49m\u001b[38;5;241;43m*\u001b[39;49m\u001b[43mgrads\u001b[49m\u001b[43m,\u001b[49m\u001b[43m \u001b[49m\u001b[43mall_grads\u001b[49m\u001b[43m,\u001b[49m\u001b[43m \u001b[49m\u001b[43mall_rewards\u001b[49m\u001b[43m)\u001b[49m\n",
      "File \u001b[0;32m~/miniconda3/envs/jax/lib/python3.11/site-packages/jax/_src/tree_util.py:243\u001b[0m, in \u001b[0;36mtree_map\u001b[0;34m(f, tree, is_leaf, *rest)\u001b[0m\n\u001b[1;32m    210\u001b[0m \u001b[38;5;250m\u001b[39m\u001b[38;5;124;03m\"\"\"Maps a multi-input function over pytree args to produce a new pytree.\u001b[39;00m\n\u001b[1;32m    211\u001b[0m \n\u001b[1;32m    212\u001b[0m \u001b[38;5;124;03mArgs:\u001b[39;00m\n\u001b[0;32m   (...)\u001b[0m\n\u001b[1;32m    240\u001b[0m \u001b[38;5;124;03m  [[5, 7, 9], [6, 1, 2]]\u001b[39;00m\n\u001b[1;32m    241\u001b[0m \u001b[38;5;124;03m\"\"\"\u001b[39;00m\n\u001b[1;32m    242\u001b[0m leaves, treedef \u001b[38;5;241m=\u001b[39m tree_flatten(tree, is_leaf)\n\u001b[0;32m--> 243\u001b[0m all_leaves \u001b[38;5;241m=\u001b[39m [leaves] \u001b[38;5;241m+\u001b[39m \u001b[43m[\u001b[49m\u001b[43mtreedef\u001b[49m\u001b[38;5;241;43m.\u001b[39;49m\u001b[43mflatten_up_to\u001b[49m\u001b[43m(\u001b[49m\u001b[43mr\u001b[49m\u001b[43m)\u001b[49m\u001b[43m \u001b[49m\u001b[38;5;28;43;01mfor\u001b[39;49;00m\u001b[43m \u001b[49m\u001b[43mr\u001b[49m\u001b[43m \u001b[49m\u001b[38;5;129;43;01min\u001b[39;49;00m\u001b[43m \u001b[49m\u001b[43mrest\u001b[49m\u001b[43m]\u001b[49m\n\u001b[1;32m    244\u001b[0m \u001b[38;5;28;01mreturn\u001b[39;00m treedef\u001b[38;5;241m.\u001b[39munflatten(f(\u001b[38;5;241m*\u001b[39mxs) \u001b[38;5;28;01mfor\u001b[39;00m xs \u001b[38;5;129;01min\u001b[39;00m \u001b[38;5;28mzip\u001b[39m(\u001b[38;5;241m*\u001b[39mall_leaves))\n",
      "File \u001b[0;32m~/miniconda3/envs/jax/lib/python3.11/site-packages/jax/_src/tree_util.py:243\u001b[0m, in \u001b[0;36m<listcomp>\u001b[0;34m(.0)\u001b[0m\n\u001b[1;32m    210\u001b[0m \u001b[38;5;250m\u001b[39m\u001b[38;5;124;03m\"\"\"Maps a multi-input function over pytree args to produce a new pytree.\u001b[39;00m\n\u001b[1;32m    211\u001b[0m \n\u001b[1;32m    212\u001b[0m \u001b[38;5;124;03mArgs:\u001b[39;00m\n\u001b[0;32m   (...)\u001b[0m\n\u001b[1;32m    240\u001b[0m \u001b[38;5;124;03m  [[5, 7, 9], [6, 1, 2]]\u001b[39;00m\n\u001b[1;32m    241\u001b[0m \u001b[38;5;124;03m\"\"\"\u001b[39;00m\n\u001b[1;32m    242\u001b[0m leaves, treedef \u001b[38;5;241m=\u001b[39m tree_flatten(tree, is_leaf)\n\u001b[0;32m--> 243\u001b[0m all_leaves \u001b[38;5;241m=\u001b[39m [leaves] \u001b[38;5;241m+\u001b[39m [\u001b[43mtreedef\u001b[49m\u001b[38;5;241;43m.\u001b[39;49m\u001b[43mflatten_up_to\u001b[49m\u001b[43m(\u001b[49m\u001b[43mr\u001b[49m\u001b[43m)\u001b[49m \u001b[38;5;28;01mfor\u001b[39;00m r \u001b[38;5;129;01min\u001b[39;00m rest]\n\u001b[1;32m    244\u001b[0m \u001b[38;5;28;01mreturn\u001b[39;00m treedef\u001b[38;5;241m.\u001b[39munflatten(f(\u001b[38;5;241m*\u001b[39mxs) \u001b[38;5;28;01mfor\u001b[39;00m xs \u001b[38;5;129;01min\u001b[39;00m \u001b[38;5;28mzip\u001b[39m(\u001b[38;5;241m*\u001b[39mall_leaves))\n",
      "\u001b[0;31mValueError\u001b[0m: Expected dict, got 1.0."
     ]
    }
   ],
   "source": [
    "jax.tree_map(lambda grads, r: r*grads, all_grads, all_rewards)"
   ]
  },
  {
   "cell_type": "code",
   "execution_count": 61,
   "metadata": {},
   "outputs": [
    {
     "data": {
      "text/plain": [
       "140"
      ]
     },
     "execution_count": 61,
     "metadata": {},
     "output_type": "execute_result"
    }
   ],
   "source": [
    "len(jax.tree_util.tree_leaves(all_grads))"
   ]
  },
  {
   "cell_type": "code",
   "execution_count": 62,
   "metadata": {},
   "outputs": [
    {
     "data": {
      "text/plain": [
       "35"
      ]
     },
     "execution_count": 62,
     "metadata": {},
     "output_type": "execute_result"
    }
   ],
   "source": [
    "len(jax.tree_util.tree_leaves(all_rewards))"
   ]
  },
  {
   "cell_type": "code",
   "execution_count": 89,
   "metadata": {},
   "outputs": [
    {
     "name": "stdout",
     "output_type": "stream",
     "text": [
      "22\n",
      "13\n"
     ]
    }
   ],
   "source": [
    "all_mean_grads = []\n",
    "scaled_grads = []\n",
    "for episode in range(len(all_grads)):\n",
    "    for step in range(len(all_grads[episode])):\n",
    "        scaled_grads.append(jax.tree_map(lambda grads: all_rewards[episode][step]*grads, all_grads[episode][step]))\n",
    "    \n",
    "    t = jax.tree_map(lambda grads: jnp.mean(grads), scaled_grads)\n",
    "    print(len(t))\n",
    "    scaled_grads = []\n"
   ]
  },
  {
   "cell_type": "code",
   "execution_count": 104,
   "metadata": {},
   "outputs": [
    {
     "ename": "ValueError",
     "evalue": "All input arrays must have the same shape.",
     "output_type": "error",
     "traceback": [
      "\u001b[0;31m---------------------------------------------------------------------------\u001b[0m",
      "\u001b[0;31mValueError\u001b[0m                                Traceback (most recent call last)",
      "Cell \u001b[0;32mIn[104], line 3\u001b[0m\n\u001b[1;32m      1\u001b[0m grads_ls, pytree_info \u001b[38;5;241m=\u001b[39m jax\u001b[38;5;241m.\u001b[39mtree_util\u001b[38;5;241m.\u001b[39mtree_flatten(all_grads)\n\u001b[1;32m      2\u001b[0m \u001b[38;5;66;03m#jax.tree_util.tree_unflatten(pytree_info, grads_ls)\u001b[39;00m\n\u001b[0;32m----> 3\u001b[0m \u001b[43mjnp\u001b[49m\u001b[38;5;241;43m.\u001b[39;49m\u001b[43mstack\u001b[49m\u001b[43m(\u001b[49m\u001b[43mgrads_ls\u001b[49m\u001b[43m)\u001b[49m\n",
      "File \u001b[0;32m~/miniconda3/envs/jax/lib/python3.11/site-packages/jax/_src/numpy/lax_numpy.py:1839\u001b[0m, in \u001b[0;36mstack\u001b[0;34m(arrays, axis, out, dtype)\u001b[0m\n\u001b[1;32m   1837\u001b[0m \u001b[38;5;28;01mfor\u001b[39;00m a \u001b[38;5;129;01min\u001b[39;00m arrays:\n\u001b[1;32m   1838\u001b[0m   \u001b[38;5;28;01mif\u001b[39;00m shape(a) \u001b[38;5;241m!=\u001b[39m shape0:\n\u001b[0;32m-> 1839\u001b[0m     \u001b[38;5;28;01mraise\u001b[39;00m \u001b[38;5;167;01mValueError\u001b[39;00m(\u001b[38;5;124m\"\u001b[39m\u001b[38;5;124mAll input arrays must have the same shape.\u001b[39m\u001b[38;5;124m\"\u001b[39m)\n\u001b[1;32m   1840\u001b[0m   new_arrays\u001b[38;5;241m.\u001b[39mappend(expand_dims(a, axis))\n\u001b[1;32m   1841\u001b[0m \u001b[38;5;28;01mreturn\u001b[39;00m concatenate(new_arrays, axis\u001b[38;5;241m=\u001b[39maxis, dtype\u001b[38;5;241m=\u001b[39mdtype)\n",
      "\u001b[0;31mValueError\u001b[0m: All input arrays must have the same shape."
     ]
    }
   ],
   "source": [
    "grads_ls, pytree_info = jax.tree_util.tree_flatten(all_grads)\n",
    "#jax.tree_util.tree_unflatten(pytree_info, grads_ls)\n",
    "jnp.stack(grads_ls)"
   ]
  },
  {
   "cell_type": "code",
   "execution_count": 66,
   "metadata": {},
   "outputs": [
    {
     "data": {
      "text/plain": [
       "13"
      ]
     },
     "execution_count": 66,
     "metadata": {},
     "output_type": "execute_result"
    }
   ],
   "source": [
    "len(all_grads[1])"
   ]
  },
  {
   "cell_type": "code",
   "execution_count": 75,
   "metadata": {},
   "outputs": [],
   "source": [
    "opt = optax.nadam(learning_rate=0.01)\n",
    "opt_state = opt.init(params)"
   ]
  },
  {
   "cell_type": "code",
   "execution_count": 77,
   "metadata": {},
   "outputs": [],
   "source": [
    "updates, opt_state = opt.update(all_mean_grads[0][0], opt_state)\n",
    "params = optax.apply_updates(params, updates)"
   ]
  },
  {
   "cell_type": "code",
   "execution_count": 84,
   "metadata": {},
   "outputs": [
    {
     "data": {
      "text/plain": [
       "22"
      ]
     },
     "execution_count": 84,
     "metadata": {},
     "output_type": "execute_result"
    }
   ],
   "source": [
    "len(all_mean_grads[0])"
   ]
  },
  {
   "cell_type": "code",
   "execution_count": null,
   "metadata": {},
   "outputs": [],
   "source": [
    "#TODO: rewrite this so we batch the grad calculations"
   ]
  }
 ],
 "metadata": {
  "kernelspec": {
   "display_name": "jax",
   "language": "python",
   "name": "python3"
  },
  "language_info": {
   "codemirror_mode": {
    "name": "ipython",
    "version": 3
   },
   "file_extension": ".py",
   "mimetype": "text/x-python",
   "name": "python",
   "nbconvert_exporter": "python",
   "pygments_lexer": "ipython3",
   "version": "3.11.7"
  }
 },
 "nbformat": 4,
 "nbformat_minor": 2
}
